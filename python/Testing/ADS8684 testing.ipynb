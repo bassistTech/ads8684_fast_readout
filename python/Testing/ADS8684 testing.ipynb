{
 "cells": [
  {
   "cell_type": "code",
   "execution_count": 1,
   "id": "4715ebf3",
   "metadata": {},
   "outputs": [],
   "source": [
    "import numpy as np\n",
    "import matplotlib.pyplot as plt\n",
    "%load_ext autoreload\n",
    "%autoreload 2"
   ]
  },
  {
   "cell_type": "code",
   "execution_count": 2,
   "id": "38c061da",
   "metadata": {},
   "outputs": [],
   "source": [
    "import ads8684_fast_readout"
   ]
  },
  {
   "cell_type": "code",
   "execution_count": 12,
   "id": "db460af4",
   "metadata": {},
   "outputs": [],
   "source": [
    "if 'ads' in globals():\n",
    "    ads.close()"
   ]
  },
  {
   "cell_type": "code",
   "execution_count": 4,
   "id": "a1376d72",
   "metadata": {},
   "outputs": [],
   "source": [
    "port = 'com8'\n",
    "ads = ads8684_fast_readout.Ads8684_fast_readout(port)"
   ]
  },
  {
   "cell_type": "code",
   "execution_count": 5,
   "id": "cc963a55",
   "metadata": {},
   "outputs": [
    {
     "name": "stdout",
     "output_type": "stream",
     "text": [
      "status {'fsamp': 500000, 'npts': 100, 'maxpts': 32768, 'average': 48831.81, 'stdev': None, 'chans': [0, 1, 2, 3], 'ranges': [1, 1, 1, 1]}\n",
      "chans {'fsamp': 500000, 'npts': 100, 'maxpts': 32768, 'average': 48831.81, 'stdev': None, 'chans': [0, 1, 2, 3], 'ranges': [1, 1, 1, 1]}\n",
      "ranges {'fsamp': 500000, 'npts': 100, 'maxpts': 32768, 'average': 48831.81, 'stdev': None, 'chans': [0, 1, 2, 3], 'ranges': [1, 1, 1, 1]}\n",
      "readTextMode {'fsamp': 500000, 'npts': 10, 'maxpts': 32768, 'average': 50126.4, 'stdev': None, 'chans': [0, 1, 2, 3], 'ranges': [1, 1, 1, 1], 'data': [58502, 52026, 45615, 39202, 58514, 52034, 45618, 39203, 58516, 52034]}\n",
      "scales, offsets [0.00015625 0.00015625 0.00015625 0.00015625] [-5.12 -5.12 -5.12 -5.12]\n",
      "readBinaryMode [[4.02140625 4.02234375 4.0225    ]\n",
      " [3.0090625  3.01015625 3.01015625]\n",
      " [2.00703125 2.0078125  2.00703125]\n",
      " [1.00515625 1.00546875 1.005     ]]\n"
     ]
    }
   ],
   "source": [
    "print('status', ads.status())\n",
    "print('chans', ads.chans([0, 1, 2, 3]))\n",
    "print('ranges', ads.ranges([1, 1, 1, 1]))\n",
    "print('readTextMode', ads.readTextMode())\n",
    "print('readBinaryMode', ads.readBinaryMode(12))"
   ]
  },
  {
   "cell_type": "code",
   "execution_count": 10,
   "id": "79042bbb",
   "metadata": {},
   "outputs": [],
   "source": [
    "result = ads.readBinaryMode(100)"
   ]
  },
  {
   "cell_type": "code",
   "execution_count": 11,
   "id": "e80c5170",
   "metadata": {},
   "outputs": [
    {
     "data": {
      "image/png": "[encoded data removed]",
      "text/plain": [
       "<Figure size 432x288 with 1 Axes>"
      ]
     },
     "metadata": {
      "needs_background": "light"
     },
     "output_type": "display_data"
    }
   ],
   "source": [
    "_ = [plt.plot(y) for y in result]"
   ]
  },
  {
   "cell_type": "code",
   "execution_count": null,
   "id": "5a51ecc9",
   "metadata": {},
   "outputs": [],
   "source": []
  }
 ],
 "metadata": {
  "kernelspec": {
   "display_name": "Python 3 (ipykernel)",
   "language": "python",
   "name": "python3"
  },
  "language_info": {
   "codemirror_mode": {
    "name": "ipython",
    "version": 3
   },
   "file_extension": ".py",
   "mimetype": "text/x-python",
   "name": "python",
   "nbconvert_exporter": "python",
   "pygments_lexer": "ipython3",
   "version": "3.10.2"
  }
 },
 "nbformat": 4,
 "nbformat_minor": 5
}
